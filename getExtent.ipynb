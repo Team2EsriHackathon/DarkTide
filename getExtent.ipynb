{
 "cells": [
  {
   "cell_type": "markdown",
   "metadata": {},
   "source": [
    "#### Run this cell to connect to your GIS and get started:"
   ]
  },
  {
   "cell_type": "code",
   "execution_count": 2,
   "metadata": {},
   "outputs": [],
   "source": [
    "from arcgis.gis import GIS\n",
    "gis = GIS(\"home\")"
   ]
  },
  {
   "cell_type": "code",
   "execution_count": 8,
   "metadata": {},
   "outputs": [
    {
     "data": {
      "text/plain": [
       "{\n",
       "  \"xmin\": -80.11064008190891,\n",
       "  \"ymin\": 25.1620099033604,\n",
       "  \"xmax\": -77.47876200020943,\n",
       "  \"ymax\": 26.744189915718096,\n",
       "  \"spatialReference\": {\n",
       "    \"wkid\": 4326,\n",
       "    \"latestWkid\": 4326\n",
       "  }\n",
       "}"
      ]
     },
     "execution_count": 8,
     "metadata": {},
     "output_type": "execute_result"
    }
   ],
   "source": [
    "# Item Added From Toolbar\n",
    "# Title: Detected Ships | Type: Feature Service | Owner: col12422@esri.com_esrifederal\n",
    "actual_ships = gis.content.get(\"0b268fdc50b44812bdc2bafb6aabc605\").layers[0]\n",
    "extent = actual_ships.properties.extent\n",
    "extent"
   ]
  },
  {
   "cell_type": "code",
   "execution_count": null,
   "metadata": {},
   "outputs": [],
   "source": [
    "from pyproj import Proj, transform\n",
    "inProj = Proj(init='wkid:102100')\n",
    "outProj = Proj(init='epsg:4326')\n",
    "xmin = extent.xmin\n",
    "xmax = extent.xmax\n",
    "ymin = extent.ymin\n",
    "ymax = extent.ymax\n",
    "\n",
    "transXmn, transYmn = transform(inProj, outProj, xmin, ymin)\n",
    "transXmx, transYmx = transform(inProj, outProj, xmax, ymax)\n",
    "ship_extent_NAD83 = (transXmn, transYmn, transXmx, transYmx)"
   ]
  },
  {
   "cell_type": "code",
   "execution_count": null,
   "metadata": {},
   "outputs": [],
   "source": []
  }
 ],
 "metadata": {
  "esriNotebookRuntime": {
   "notebookRuntimeName": "ArcGIS Notebook Python 3 Standard",
   "notebookRuntimeVersion": "6.0"
  },
  "kernelspec": {
   "display_name": "Python 3 (ipykernel)",
   "language": "python",
   "name": "python3"
  },
  "language_info": {
   "codemirror_mode": {
    "name": "ipython",
    "version": 3
   },
   "file_extension": ".py",
   "mimetype": "text/x-python",
   "name": "python",
   "nbconvert_exporter": "python",
   "pygments_lexer": "ipython3",
   "version": "3.7.11"
  }
 },
 "nbformat": 4,
 "nbformat_minor": 2
}
